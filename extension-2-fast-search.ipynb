{
 "cells": [
  {
   "cell_type": "code",
   "execution_count": null,
   "metadata": {},
   "outputs": [],
   "source": [
    "import numpy as np\n",
    "from annoy import AnnoyIndex\n",
    "import pickle\n",
    "import os\n",
    "import time\n",
    "from tqdm import tqdm_notebook as tqdm\n",
    "import numpy as np\n",
    "import matplotlib.pyplot as plt\n",
    "%matplotlib inline"
   ]
  },
  {
   "cell_type": "code",
   "execution_count": null,
   "metadata": {},
   "outputs": [],
   "source": [
    "# Please import your matrix\n",
    "track_vec = pickle.load(open('./item_vec.pkl', 'rb'))\n",
    "test_user_vec = pickle.load(open('./user_vec.pkl', 'rb'))"
   ]
  },
  {
   "cell_type": "markdown",
   "metadata": {},
   "source": [
    "### Example: Build a AnnoyTree"
   ]
  },
  {
   "cell_type": "code",
   "execution_count": null,
   "metadata": {},
   "outputs": [],
   "source": [
    "f = len(track_vec[0])\n",
    "t = AnnoyIndex(f, metric='dot')\n",
    "for i in range(len(track_vec)):\n",
    "    t.add_item(i, track_vec[i])\n",
    "\n",
    "t.build(30)"
   ]
  },
  {
   "cell_type": "markdown",
   "metadata": {},
   "source": [
    "### Build exhaustive search"
   ]
  },
  {
   "cell_type": "code",
   "execution_count": null,
   "metadata": {},
   "outputs": [],
   "source": [
    "def find_nearest_exhaustive(data, queries, k):\n",
    "    if len(data.shape) == 1:\n",
    "        data = np.array([x for x in data])\n",
    "    n_items = data.shape[0]\n",
    "    n_feat = data.shape[1]\n",
    "    n_queries = len(queries)\n",
    "    \n",
    "    def single_query(query):\n",
    "        start = time.time()\n",
    "        if type(query) is not np.ndarray:\n",
    "            query = np.array(query)\n",
    "        res = np.argsort(-data.dot(query))[:k]\n",
    "        interval = time.time() - start\n",
    "        return interval, res\n",
    "    times = []\n",
    "    results = []\n",
    "    for i in tqdm(range(n_queries)):\n",
    "        interval, res = single_query(queries[i])\n",
    "        times.append(interval)\n",
    "        results.append(res)\n",
    "    mean_time = sum(times) / len(times)\n",
    "    print('-' * 26)\n",
    "    print('Exhaustive Brute-force Search\\n')\n",
    "    print('Mean Query Search: %.6f' % mean_time)\n",
    "    \n",
    "    return mean_time, results    "
   ]
  },
  {
   "cell_type": "code",
   "execution_count": null,
   "metadata": {
    "scrolled": true
   },
   "outputs": [],
   "source": [
    "bf_mean_time, bf_results = find_nearest_exhaustive(track_vec, test_user_vec, 500)"
   ]
  },
  {
   "cell_type": "markdown",
   "metadata": {},
   "source": [
    "### Wrap the algorithm object \n",
    "so it our code could support more algorithms in the future"
   ]
  },
  {
   "cell_type": "code",
   "execution_count": null,
   "metadata": {},
   "outputs": [],
   "source": [
    "def wrap_with(obj, method, mapping):\n",
    "    '''\n",
    "    obj: the model that can respond to the query\n",
    "    method: the name of the query method\n",
    "    mapping: what input be mapped\n",
    "    '''\n",
    "    get_map = lambda x: [x[mapping[i]] for i in range(len(mapping))]\n",
    "    def wrapped(*args, **kwrds):\n",
    "        return obj.__getattribute__(method)(*get_map(args))\n",
    "    return wrapped"
   ]
  },
  {
   "cell_type": "code",
   "execution_count": null,
   "metadata": {},
   "outputs": [],
   "source": [
    "def find_nearest_algo(data, queries, true_label, model_wrapped, k, extra_para):\n",
    "    if len(data.shape) == 1:\n",
    "        data = np.array([x for x in data])\n",
    "    n_items = data.shape[0]\n",
    "    n_feat = data.shape[1]\n",
    "    n_queries = len(queries)\n",
    "    def single_query(query):\n",
    "        start = time.time()\n",
    "        res = model_wrapped(query, k, extra_para)\n",
    "        interval = time.time() - start\n",
    "        return interval, res\n",
    "    def get_recall(predict, truth):\n",
    "        return len([x for x in predict if x in truth]) / len(truth)\n",
    "    times = []\n",
    "    recalls = []\n",
    "    for i in tqdm(range(n_queries)):\n",
    "        interval, res = single_query(queries[i])\n",
    "        recall = get_recall(res, true_label[i])\n",
    "        times.append(interval)\n",
    "        recalls.append(recall)\n",
    "    mean_time = sum(times) / len(times)\n",
    "    mean_recall = sum(recalls) / len(recalls)\n",
    "    print('-' * 26)\n",
    "    print('Algorithm with k\\' = %d\\n' % k)\n",
    "    print('Mean Query Search Time: %.6f' % mean_time)\n",
    "    print('Mean Recall: %.6f' % mean_recall)\n",
    "    \n",
    "    return mean_time, mean_recall "
   ]
  },
  {
   "cell_type": "markdown",
   "metadata": {},
   "source": [
    "### Make the plot"
   ]
  },
  {
   "cell_type": "code",
   "execution_count": null,
   "metadata": {},
   "outputs": [],
   "source": [
    "def make_plot(tree_list):\n",
    "    results = []\n",
    "    for tree in tqdm(tree_list):\n",
    "        res = {'tree': tree}\n",
    "        t.build(tree)\n",
    "        annoy10_wrapped = wrap_with(t, 'get_nns_by_vector', [0, 1, 2])\n",
    "        num_query_list = []\n",
    "        recall_list = []\n",
    "        for para in [100, 500, 1000, 5000, 10000, 50000, 100000, 500000]:\n",
    "            algo100_time, algo100_recall = find_nearest_algo(track_vec, test_user_vec, bf_results, annoy10_wrapped, 500, para)\n",
    "            num_query_list.append(1/algo100_time)\n",
    "            recall_list.append(algo100_recall)\n",
    "        plt.plot(recall_list, num_query_list, label = 'Annoy (num_tree = {})'.format(tree))\n",
    "        plt.ylabel('Queries per second (1/s)')\n",
    "        plt.xlabel('Recall')\n",
    "        plt.title('Recall-Queries per second (1/s) tradeoff - up and to the right is better')\n",
    "        plt.yscale('log')\n",
    "        plt.legend()\n",
    "        plt.grid()\n",
    "        res['recall'] = recall_list\n",
    "        res['time'] = num_query_list\n",
    "        results.append(res)\n",
    "    return results"
   ]
  },
  {
   "cell_type": "code",
   "execution_count": null,
   "metadata": {
    "scrolled": false
   },
   "outputs": [],
   "source": [
    "tree_list = [1, 5, 10, 30]\n",
    "plot_data_try = make_plot(tree_list)"
   ]
  }
 ],
 "metadata": {
  "kernelspec": {
   "display_name": "Python 3",
   "language": "python",
   "name": "python3"
  },
  "language_info": {
   "codemirror_mode": {
    "name": "ipython",
    "version": 3
   },
   "file_extension": ".py",
   "mimetype": "text/x-python",
   "name": "python",
   "nbconvert_exporter": "python",
   "pygments_lexer": "ipython3",
   "version": "3.6.7"
  },
  "toc": {
   "base_numbering": 1,
   "nav_menu": {},
   "number_sections": false,
   "sideBar": true,
   "skip_h1_title": true,
   "title_cell": "Table of Contents",
   "title_sidebar": "Contents",
   "toc_cell": false,
   "toc_position": {},
   "toc_section_display": true,
   "toc_window_display": false
  }
 },
 "nbformat": 4,
 "nbformat_minor": 2
}
