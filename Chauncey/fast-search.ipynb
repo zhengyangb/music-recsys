{
 "cells": [
  {
   "cell_type": "code",
   "execution_count": 1,
   "metadata": {},
   "outputs": [],
   "source": [
    "import numpy as np"
   ]
  },
  {
   "cell_type": "code",
   "execution_count": 125,
   "metadata": {},
   "outputs": [],
   "source": [
    "from annoy import AnnoyIndex\n",
    "import pickle\n",
    "import os\n",
    "import time\n",
    "from tqdm import tqdm_notebook as tqdm\n",
    "import numpy as np\n",
    "import matplotlib.pyplot as plt\n",
    "%matplotlib inline\n",
    "# from functools import wrapper"
   ]
  },
  {
   "cell_type": "code",
   "execution_count": 67,
   "metadata": {},
   "outputs": [],
   "source": [
    "#local\n",
    "track_vec = pickle.load(open('/Users/leo/Desktop/DSGA-1004/item_vec.pkl', 'rb'))\n",
    "test_user_vec = pickle.load(open('/Users/leo/Desktop/DSGA-1004/user_vec.pkl', 'rb'))"
   ]
  },
  {
   "cell_type": "code",
   "execution_count": 56,
   "metadata": {},
   "outputs": [],
   "source": [
    "#bian\n",
    "track_vec = pickle.load(open('/Users/leo/Desktop/DSGA-1004/track_vec.pkl', 'rb'))\n",
    "test_user_vec = pickle.load(open('/Users/leo/Desktop/DSGA-1004/val_user_vec.pkl', 'rb'))"
   ]
  },
  {
   "cell_type": "code",
   "execution_count": 141,
   "metadata": {},
   "outputs": [
    {
     "data": {
      "text/plain": [
       "True"
      ]
     },
     "execution_count": 141,
     "metadata": {},
     "output_type": "execute_result"
    }
   ],
   "source": [
    "f = len(track_vec[0])\n",
    "t = AnnoyIndex(f, metric='dot')\n",
    "for i in range(len(track_vec)):\n",
    "    t.add_item(i, track_vec[i])\n",
    "\n",
    "t.build(30)"
   ]
  },
  {
   "cell_type": "code",
   "execution_count": 72,
   "metadata": {},
   "outputs": [
    {
     "data": {
      "text/plain": [
       "10000"
      ]
     },
     "execution_count": 72,
     "metadata": {},
     "output_type": "execute_result"
    }
   ],
   "source": [
    "len(test_user_vec)"
   ]
  },
  {
   "cell_type": "code",
   "execution_count": 73,
   "metadata": {},
   "outputs": [],
   "source": [
    "def find_nearest_exhaustive(data, queries, k):\n",
    "    if len(data.shape) == 1:\n",
    "        data = np.array([x for x in data])\n",
    "    n_items = data.shape[0]\n",
    "    n_feat = data.shape[1]\n",
    "    n_queries = len(queries)\n",
    "    \n",
    "    def single_query(query):\n",
    "        start = time.time()\n",
    "        if type(query) is not np.ndarray:\n",
    "            query = np.array(query)\n",
    "        res = np.argsort(-data.dot(query))[:k]\n",
    "        interval = time.time() - start\n",
    "        return interval, res\n",
    "    times = []\n",
    "    results = []\n",
    "    for i in tqdm(range(n_queries)):\n",
    "        interval, res = single_query(queries[i])\n",
    "        times.append(interval)\n",
    "        results.append(res)\n",
    "    mean_time = sum(times) / len(times)\n",
    "    print('-' * 26)\n",
    "    print('Exhaustive Brute-force Search\\n')\n",
    "    print('Mean Query Search: %.6f' % mean_time)\n",
    "    \n",
    "    return mean_time, results    "
   ]
  },
  {
   "cell_type": "code",
   "execution_count": 74,
   "metadata": {},
   "outputs": [
    {
     "data": {
      "application/vnd.jupyter.widget-view+json": {
       "model_id": "989112f808a34a0d99184be81dd208d5",
       "version_major": 2,
       "version_minor": 0
      },
      "text/plain": [
       "HBox(children=(IntProgress(value=0, max=10000), HTML(value='')))"
      ]
     },
     "metadata": {},
     "output_type": "display_data"
    },
    {
     "name": "stdout",
     "output_type": "stream",
     "text": [
      "--------------------------\n",
      "Exhaustive Brute-force Search\n",
      "\n",
      "Mean Query Search: 0.027584\n"
     ]
    }
   ],
   "source": [
    "bf_mean_time, bf_results = find_nearest_exhaustive(track_vec, test_user_vec, 500)"
   ]
  },
  {
   "cell_type": "code",
   "execution_count": 86,
   "metadata": {},
   "outputs": [],
   "source": [
    "# pickle.dump(bf_results, open('./bf_results', 'wb'), protocol=pickle.HIGHEST_PROTOCOL)"
   ]
  },
  {
   "cell_type": "code",
   "execution_count": 78,
   "metadata": {},
   "outputs": [],
   "source": [
    "def wrap_with(obj, method, mapping):\n",
    "    '''\n",
    "    obj: the model that can respond to the query\n",
    "    method: the name of the query method\n",
    "    mapping: what input be mapped\n",
    "    '''\n",
    "    get_map = lambda x: [x[mapping[i]] for i in range(len(mapping))]\n",
    "    def wrapped(*args, **kwrds):\n",
    "        return obj.__getattribute__(method)(*get_map(args))\n",
    "    return wrapped"
   ]
  },
  {
   "cell_type": "markdown",
   "metadata": {},
   "source": [
    "<div style='background-color: #ffffb3;border-left: 5px solid #e6e600;padding: 0.5em;position:relative;'> \n",
    "\n",
    "<div style='position: absolute;top: 0px;left: 0;bottom: 0;right: 0;z-index: 0;overflow: hidden;font-size:60px; font-weight:bold; color: gray;opacity: 0.3;font-family: Arial, sans-serif'>⚠</div> <br>\n",
    "\n",
    "\n",
    "Please wrap your model so that it can take input `(query, k)`\n",
    "\n",
    "\n",
    "</div>"
   ]
  },
  {
   "cell_type": "code",
   "execution_count": 79,
   "metadata": {},
   "outputs": [],
   "source": [
    "annoy10_wrapped = wrap_with(t, 'get_nns_by_vector', [0, 1])"
   ]
  },
  {
   "cell_type": "code",
   "execution_count": 135,
   "metadata": {},
   "outputs": [],
   "source": [
    "def find_nearest_algo(data, queries, true_label, model_wrapped, k):\n",
    "    if len(data.shape) == 1:\n",
    "        data = np.array([x for x in data])\n",
    "    n_items = data.shape[0]\n",
    "    n_feat = data.shape[1]\n",
    "    n_queries = len(queries)\n",
    "    def single_query(query):\n",
    "        start = time.time()\n",
    "        res = model_wrapped(query, k)\n",
    "        interval = time.time() - start\n",
    "        return interval, res\n",
    "    def get_recall(predict, truth):\n",
    "        return len([x for x in predict if x in truth]) / len(truth)\n",
    "    times = []\n",
    "    recalls = []\n",
    "    for i in tqdm(range(n_queries)):\n",
    "        interval, res = single_query(queries[i])\n",
    "        recall = get_recall(res, true_label[i])\n",
    "        times.append(interval)\n",
    "        recalls.append(recall)\n",
    "    mean_time = sum(times) / len(times)\n",
    "    mean_recall = sum(recalls) / len(recalls)\n",
    "    print('-' * 26)\n",
    "    print('Algorithm with k\\' = %d\\n' % k)\n",
    "    print('Mean Query Search Time: %.6f' % mean_time)\n",
    "    print('Mean Recall: %.6f' % mean_recall)\n",
    "    \n",
    "    return mean_time, mean_recall "
   ]
  },
  {
   "cell_type": "code",
   "execution_count": 173,
   "metadata": {},
   "outputs": [],
   "source": [
    "def make_plot(tree_list):\n",
    "    for tree in tree_list:\n",
    "        t.build(tree)\n",
    "        num_query_list = []\n",
    "        recall_list = []\n",
    "        for k in range(50,501, 50):\n",
    "            algo100_time, algo100_recall = find_nearest_algo(track_vec, test_user_vec, bf_results, annoy10_wrapped, k)\n",
    "            num_query_list.append(1/algo100_time)\n",
    "            recall_list.append(algo100_recall)\n",
    "        plt.plot(recall_list, num_query_list, label = 'Annoy (num_tree = {})'.format(tree))\n",
    "        plt.ylabel('Queries per second (1/s)')\n",
    "        plt.xlabel('Recall')\n",
    "        plt.title('Recall-Queries per second (1/s) tradeoff - up and to the right is better')\n",
    "        plt.legend()\n",
    "        plt.grid()"
   ]
  },
  {
   "cell_type": "code",
   "execution_count": 174,
   "metadata": {},
   "outputs": [],
   "source": [
    "tree_list = [i for i in range(10,51,10)]"
   ]
  },
  {
   "cell_type": "code",
   "execution_count": 175,
   "metadata": {
    "scrolled": true
   },
   "outputs": [
    {
     "data": {
      "application/vnd.jupyter.widget-view+json": {
       "model_id": "629d0fc853af4e1bbd590dfeec670087",
       "version_major": 2,
       "version_minor": 0
      },
      "text/plain": [
       "HBox(children=(IntProgress(value=0, max=10000), HTML(value='')))"
      ]
     },
     "metadata": {},
     "output_type": "display_data"
    },
    {
     "name": "stdout",
     "output_type": "stream",
     "text": [
      "--------------------------\n",
      "Algorithm with k' = 50\n",
      "\n",
      "Mean Query Search Time: 0.000329\n",
      "Mean Recall: 0.083584\n"
     ]
    },
    {
     "data": {
      "application/vnd.jupyter.widget-view+json": {
       "model_id": "72bcbb3cad3d4180972b38a4ea425b21",
       "version_major": 2,
       "version_minor": 0
      },
      "text/plain": [
       "HBox(children=(IntProgress(value=0, max=10000), HTML(value='')))"
      ]
     },
     "metadata": {},
     "output_type": "display_data"
    },
    {
     "name": "stdout",
     "output_type": "stream",
     "text": [
      "--------------------------\n",
      "Algorithm with k' = 100\n",
      "\n",
      "Mean Query Search Time: 0.000682\n",
      "Mean Recall: 0.147661\n"
     ]
    },
    {
     "data": {
      "application/vnd.jupyter.widget-view+json": {
       "model_id": "939a360eefc8468a97166822810ad1d4",
       "version_major": 2,
       "version_minor": 0
      },
      "text/plain": [
       "HBox(children=(IntProgress(value=0, max=10000), HTML(value='')))"
      ]
     },
     "metadata": {},
     "output_type": "display_data"
    },
    {
     "name": "stdout",
     "output_type": "stream",
     "text": [
      "--------------------------\n",
      "Algorithm with k' = 150\n",
      "\n",
      "Mean Query Search Time: 0.000897\n",
      "Mean Recall: 0.186716\n"
     ]
    },
    {
     "data": {
      "application/vnd.jupyter.widget-view+json": {
       "model_id": "288c04eeb8b1466b90960609ba186a0b",
       "version_major": 2,
       "version_minor": 0
      },
      "text/plain": [
       "HBox(children=(IntProgress(value=0, max=10000), HTML(value='')))"
      ]
     },
     "metadata": {},
     "output_type": "display_data"
    },
    {
     "name": "stdout",
     "output_type": "stream",
     "text": [
      "--------------------------\n",
      "Algorithm with k' = 200\n",
      "\n",
      "Mean Query Search Time: 0.001107\n",
      "Mean Recall: 0.213950\n"
     ]
    },
    {
     "data": {
      "application/vnd.jupyter.widget-view+json": {
       "model_id": "7d0a5a8d8c7e44de85b96f2ec7eefa86",
       "version_major": 2,
       "version_minor": 0
      },
      "text/plain": [
       "HBox(children=(IntProgress(value=0, max=10000), HTML(value='')))"
      ]
     },
     "metadata": {},
     "output_type": "display_data"
    },
    {
     "name": "stdout",
     "output_type": "stream",
     "text": [
      "--------------------------\n",
      "Algorithm with k' = 250\n",
      "\n",
      "Mean Query Search Time: 0.001461\n",
      "Mean Recall: 0.236735\n"
     ]
    },
    {
     "data": {
      "application/vnd.jupyter.widget-view+json": {
       "model_id": "97c84ea7c01442bc8863302d8d47467b",
       "version_major": 2,
       "version_minor": 0
      },
      "text/plain": [
       "HBox(children=(IntProgress(value=0, max=10000), HTML(value='')))"
      ]
     },
     "metadata": {},
     "output_type": "display_data"
    },
    {
     "name": "stdout",
     "output_type": "stream",
     "text": [
      "--------------------------\n",
      "Algorithm with k' = 300\n",
      "\n",
      "Mean Query Search Time: 0.001803\n",
      "Mean Recall: 0.256108\n"
     ]
    },
    {
     "data": {
      "application/vnd.jupyter.widget-view+json": {
       "model_id": "8599bc01a8fd49079b5846d0663dff07",
       "version_major": 2,
       "version_minor": 0
      },
      "text/plain": [
       "HBox(children=(IntProgress(value=0, max=10000), HTML(value='')))"
      ]
     },
     "metadata": {},
     "output_type": "display_data"
    },
    {
     "name": "stdout",
     "output_type": "stream",
     "text": [
      "--------------------------\n",
      "Algorithm with k' = 350\n",
      "\n",
      "Mean Query Search Time: 0.002029\n",
      "Mean Recall: 0.275061\n"
     ]
    },
    {
     "data": {
      "application/vnd.jupyter.widget-view+json": {
       "model_id": "4ec8790a6dc444cbbcdb3db659f1addc",
       "version_major": 2,
       "version_minor": 0
      },
      "text/plain": [
       "HBox(children=(IntProgress(value=0, max=10000), HTML(value='')))"
      ]
     },
     "metadata": {},
     "output_type": "display_data"
    },
    {
     "name": "stdout",
     "output_type": "stream",
     "text": [
      "--------------------------\n",
      "Algorithm with k' = 400\n",
      "\n",
      "Mean Query Search Time: 0.002251\n",
      "Mean Recall: 0.293059\n"
     ]
    },
    {
     "data": {
      "application/vnd.jupyter.widget-view+json": {
       "model_id": "99e3c4ebe2b14fc38b1045960c8b9f70",
       "version_major": 2,
       "version_minor": 0
      },
      "text/plain": [
       "HBox(children=(IntProgress(value=0, max=10000), HTML(value='')))"
      ]
     },
     "metadata": {},
     "output_type": "display_data"
    },
    {
     "name": "stdout",
     "output_type": "stream",
     "text": [
      "--------------------------\n",
      "Algorithm with k' = 450\n",
      "\n",
      "Mean Query Search Time: 0.002680\n",
      "Mean Recall: 0.309001\n"
     ]
    },
    {
     "data": {
      "application/vnd.jupyter.widget-view+json": {
       "model_id": "02cb3f66026d4976890e0efe81041ae2",
       "version_major": 2,
       "version_minor": 0
      },
      "text/plain": [
       "HBox(children=(IntProgress(value=0, max=10000), HTML(value='')))"
      ]
     },
     "metadata": {},
     "output_type": "display_data"
    },
    {
     "name": "stdout",
     "output_type": "stream",
     "text": [
      "--------------------------\n",
      "Algorithm with k' = 500\n",
      "\n",
      "Mean Query Search Time: 0.003100\n",
      "Mean Recall: 0.325238\n"
     ]
    },
    {
     "data": {
      "application/vnd.jupyter.widget-view+json": {
       "model_id": "3d49bd3ca5f34444a4d75ec8adf4b248",
       "version_major": 2,
       "version_minor": 0
      },
      "text/plain": [
       "HBox(children=(IntProgress(value=0, max=10000), HTML(value='')))"
      ]
     },
     "metadata": {},
     "output_type": "display_data"
    },
    {
     "name": "stdout",
     "output_type": "stream",
     "text": [
      "--------------------------\n",
      "Algorithm with k' = 50\n",
      "\n",
      "Mean Query Search Time: 0.000347\n",
      "Mean Recall: 0.083584\n"
     ]
    },
    {
     "data": {
      "application/vnd.jupyter.widget-view+json": {
       "model_id": "6b7c92eadb874c6d909674c921bbb978",
       "version_major": 2,
       "version_minor": 0
      },
      "text/plain": [
       "HBox(children=(IntProgress(value=0, max=10000), HTML(value='')))"
      ]
     },
     "metadata": {},
     "output_type": "display_data"
    },
    {
     "name": "stdout",
     "output_type": "stream",
     "text": [
      "--------------------------\n",
      "Algorithm with k' = 100\n",
      "\n",
      "Mean Query Search Time: 0.000703\n",
      "Mean Recall: 0.147661\n"
     ]
    },
    {
     "data": {
      "application/vnd.jupyter.widget-view+json": {
       "model_id": "8b043ab369074ad08d619cb769ea8c5e",
       "version_major": 2,
       "version_minor": 0
      },
      "text/plain": [
       "HBox(children=(IntProgress(value=0, max=10000), HTML(value='')))"
      ]
     },
     "metadata": {},
     "output_type": "display_data"
    },
    {
     "name": "stdout",
     "output_type": "stream",
     "text": [
      "--------------------------\n",
      "Algorithm with k' = 150\n",
      "\n",
      "Mean Query Search Time: 0.000891\n",
      "Mean Recall: 0.186716\n"
     ]
    },
    {
     "data": {
      "application/vnd.jupyter.widget-view+json": {
       "model_id": "600ea3435a414334b8237d2cb86c80bd",
       "version_major": 2,
       "version_minor": 0
      },
      "text/plain": [
       "HBox(children=(IntProgress(value=0, max=10000), HTML(value='')))"
      ]
     },
     "metadata": {},
     "output_type": "display_data"
    },
    {
     "name": "stdout",
     "output_type": "stream",
     "text": [
      "--------------------------\n",
      "Algorithm with k' = 200\n",
      "\n",
      "Mean Query Search Time: 0.001257\n",
      "Mean Recall: 0.213950\n"
     ]
    },
    {
     "data": {
      "application/vnd.jupyter.widget-view+json": {
       "model_id": "c06e33c294b14142aeae29b550aa38ea",
       "version_major": 2,
       "version_minor": 0
      },
      "text/plain": [
       "HBox(children=(IntProgress(value=0, max=10000), HTML(value='')))"
      ]
     },
     "metadata": {},
     "output_type": "display_data"
    },
    {
     "name": "stdout",
     "output_type": "stream",
     "text": [
      "--------------------------\n",
      "Algorithm with k' = 250\n",
      "\n",
      "Mean Query Search Time: 0.001660\n",
      "Mean Recall: 0.236735\n"
     ]
    },
    {
     "data": {
      "application/vnd.jupyter.widget-view+json": {
       "model_id": "19ee6035c56945f5a32b725024b85025",
       "version_major": 2,
       "version_minor": 0
      },
      "text/plain": [
       "HBox(children=(IntProgress(value=0, max=10000), HTML(value='')))"
      ]
     },
     "metadata": {},
     "output_type": "display_data"
    },
    {
     "name": "stdout",
     "output_type": "stream",
     "text": [
      "--------------------------\n",
      "Algorithm with k' = 300\n",
      "\n",
      "Mean Query Search Time: 0.001908\n",
      "Mean Recall: 0.256108\n"
     ]
    },
    {
     "data": {
      "application/vnd.jupyter.widget-view+json": {
       "model_id": "a8100cc83c9d4f6ebb68ffbf70d8e4ac",
       "version_major": 2,
       "version_minor": 0
      },
      "text/plain": [
       "HBox(children=(IntProgress(value=0, max=10000), HTML(value='')))"
      ]
     },
     "metadata": {},
     "output_type": "display_data"
    },
    {
     "name": "stdout",
     "output_type": "stream",
     "text": [
      "--------------------------\n",
      "Algorithm with k' = 350\n",
      "\n",
      "Mean Query Search Time: 0.002297\n",
      "Mean Recall: 0.275061\n"
     ]
    },
    {
     "data": {
      "application/vnd.jupyter.widget-view+json": {
       "model_id": "7de055376d1e4aa4b98925f3e0bde9c1",
       "version_major": 2,
       "version_minor": 0
      },
      "text/plain": [
       "HBox(children=(IntProgress(value=0, max=10000), HTML(value='')))"
      ]
     },
     "metadata": {},
     "output_type": "display_data"
    },
    {
     "name": "stdout",
     "output_type": "stream",
     "text": [
      "--------------------------\n",
      "Algorithm with k' = 400\n",
      "\n",
      "Mean Query Search Time: 0.002488\n",
      "Mean Recall: 0.293059\n"
     ]
    },
    {
     "data": {
      "application/vnd.jupyter.widget-view+json": {
       "model_id": "d03d944e66b84a5b83b64bb8512d7356",
       "version_major": 2,
       "version_minor": 0
      },
      "text/plain": [
       "HBox(children=(IntProgress(value=0, max=10000), HTML(value='')))"
      ]
     },
     "metadata": {},
     "output_type": "display_data"
    },
    {
     "name": "stdout",
     "output_type": "stream",
     "text": [
      "--------------------------\n",
      "Algorithm with k' = 450\n",
      "\n",
      "Mean Query Search Time: 0.002726\n",
      "Mean Recall: 0.309001\n"
     ]
    },
    {
     "data": {
      "application/vnd.jupyter.widget-view+json": {
       "model_id": "5ee0a90ed57247779540bb48da432347",
       "version_major": 2,
       "version_minor": 0
      },
      "text/plain": [
       "HBox(children=(IntProgress(value=0, max=10000), HTML(value='')))"
      ]
     },
     "metadata": {},
     "output_type": "display_data"
    },
    {
     "name": "stdout",
     "output_type": "stream",
     "text": [
      "--------------------------\n",
      "Algorithm with k' = 500\n",
      "\n",
      "Mean Query Search Time: 0.003110\n",
      "Mean Recall: 0.325238\n"
     ]
    },
    {
     "data": {
      "application/vnd.jupyter.widget-view+json": {
       "model_id": "5ea8d4127a2c421cafb9d964ab4b1e08",
       "version_major": 2,
       "version_minor": 0
      },
      "text/plain": [
       "HBox(children=(IntProgress(value=0, max=10000), HTML(value='')))"
      ]
     },
     "metadata": {},
     "output_type": "display_data"
    },
    {
     "name": "stdout",
     "output_type": "stream",
     "text": [
      "--------------------------\n",
      "Algorithm with k' = 50\n",
      "\n",
      "Mean Query Search Time: 0.000304\n",
      "Mean Recall: 0.083584\n"
     ]
    },
    {
     "data": {
      "application/vnd.jupyter.widget-view+json": {
       "model_id": "db4f42553f484025a11303b895c0ac46",
       "version_major": 2,
       "version_minor": 0
      },
      "text/plain": [
       "HBox(children=(IntProgress(value=0, max=10000), HTML(value='')))"
      ]
     },
     "metadata": {},
     "output_type": "display_data"
    },
    {
     "name": "stdout",
     "output_type": "stream",
     "text": [
      "--------------------------\n",
      "Algorithm with k' = 100\n",
      "\n",
      "Mean Query Search Time: 0.000583\n",
      "Mean Recall: 0.147661\n"
     ]
    },
    {
     "data": {
      "application/vnd.jupyter.widget-view+json": {
       "model_id": "761fadfec2cf43f8a46dd98cc5d82ff8",
       "version_major": 2,
       "version_minor": 0
      },
      "text/plain": [
       "HBox(children=(IntProgress(value=0, max=10000), HTML(value='')))"
      ]
     },
     "metadata": {},
     "output_type": "display_data"
    },
    {
     "name": "stdout",
     "output_type": "stream",
     "text": [
      "--------------------------\n",
      "Algorithm with k' = 150\n",
      "\n",
      "Mean Query Search Time: 0.001015\n",
      "Mean Recall: 0.186716\n"
     ]
    },
    {
     "data": {
      "application/vnd.jupyter.widget-view+json": {
       "model_id": "243891c16dfb432d9cb588e8673633a4",
       "version_major": 2,
       "version_minor": 0
      },
      "text/plain": [
       "HBox(children=(IntProgress(value=0, max=10000), HTML(value='')))"
      ]
     },
     "metadata": {},
     "output_type": "display_data"
    },
    {
     "name": "stdout",
     "output_type": "stream",
     "text": [
      "--------------------------\n",
      "Algorithm with k' = 200\n",
      "\n",
      "Mean Query Search Time: 0.001236\n",
      "Mean Recall: 0.213950\n"
     ]
    },
    {
     "data": {
      "application/vnd.jupyter.widget-view+json": {
       "model_id": "59f35a91f103428ca3b17105b30a18fd",
       "version_major": 2,
       "version_minor": 0
      },
      "text/plain": [
       "HBox(children=(IntProgress(value=0, max=10000), HTML(value='')))"
      ]
     },
     "metadata": {},
     "output_type": "display_data"
    },
    {
     "name": "stdout",
     "output_type": "stream",
     "text": [
      "--------------------------\n",
      "Algorithm with k' = 250\n",
      "\n",
      "Mean Query Search Time: 0.001391\n",
      "Mean Recall: 0.236735\n"
     ]
    },
    {
     "data": {
      "application/vnd.jupyter.widget-view+json": {
       "model_id": "2da0cac8a2ad49a2ba3ec61977534463",
       "version_major": 2,
       "version_minor": 0
      },
      "text/plain": [
       "HBox(children=(IntProgress(value=0, max=10000), HTML(value='')))"
      ]
     },
     "metadata": {},
     "output_type": "display_data"
    },
    {
     "name": "stdout",
     "output_type": "stream",
     "text": [
      "--------------------------\n",
      "Algorithm with k' = 300\n",
      "\n",
      "Mean Query Search Time: 0.001892\n",
      "Mean Recall: 0.256108\n"
     ]
    },
    {
     "data": {
      "application/vnd.jupyter.widget-view+json": {
       "model_id": "081525256e43463099bda6acd4b7fa54",
       "version_major": 2,
       "version_minor": 0
      },
      "text/plain": [
       "HBox(children=(IntProgress(value=0, max=10000), HTML(value='')))"
      ]
     },
     "metadata": {},
     "output_type": "display_data"
    },
    {
     "name": "stdout",
     "output_type": "stream",
     "text": [
      "--------------------------\n",
      "Algorithm with k' = 350\n",
      "\n",
      "Mean Query Search Time: 0.002018\n",
      "Mean Recall: 0.275061\n"
     ]
    },
    {
     "data": {
      "application/vnd.jupyter.widget-view+json": {
       "model_id": "b73e3120550e4e47ba5395083718b5d6",
       "version_major": 2,
       "version_minor": 0
      },
      "text/plain": [
       "HBox(children=(IntProgress(value=0, max=10000), HTML(value='')))"
      ]
     },
     "metadata": {},
     "output_type": "display_data"
    },
    {
     "name": "stdout",
     "output_type": "stream",
     "text": [
      "--------------------------\n",
      "Algorithm with k' = 400\n",
      "\n",
      "Mean Query Search Time: 0.002289\n",
      "Mean Recall: 0.293059\n"
     ]
    },
    {
     "data": {
      "application/vnd.jupyter.widget-view+json": {
       "model_id": "145bd97bc56544ec938636bc623806e4",
       "version_major": 2,
       "version_minor": 0
      },
      "text/plain": [
       "HBox(children=(IntProgress(value=0, max=10000), HTML(value='')))"
      ]
     },
     "metadata": {},
     "output_type": "display_data"
    },
    {
     "name": "stdout",
     "output_type": "stream",
     "text": [
      "--------------------------\n",
      "Algorithm with k' = 450\n",
      "\n",
      "Mean Query Search Time: 0.002573\n",
      "Mean Recall: 0.309001\n"
     ]
    },
    {
     "data": {
      "application/vnd.jupyter.widget-view+json": {
       "model_id": "6c185363bf03467992de86c266cca69b",
       "version_major": 2,
       "version_minor": 0
      },
      "text/plain": [
       "HBox(children=(IntProgress(value=0, max=10000), HTML(value='')))"
      ]
     },
     "metadata": {},
     "output_type": "display_data"
    },
    {
     "name": "stdout",
     "output_type": "stream",
     "text": [
      "--------------------------\n",
      "Algorithm with k' = 500\n",
      "\n",
      "Mean Query Search Time: 0.003210\n",
      "Mean Recall: 0.325238\n"
     ]
    },
    {
     "data": {
      "application/vnd.jupyter.widget-view+json": {
       "model_id": "aa0decb2a1104689aea9bca86b5ea4c5",
       "version_major": 2,
       "version_minor": 0
      },
      "text/plain": [
       "HBox(children=(IntProgress(value=0, max=10000), HTML(value='')))"
      ]
     },
     "metadata": {},
     "output_type": "display_data"
    },
    {
     "name": "stdout",
     "output_type": "stream",
     "text": [
      "--------------------------\n",
      "Algorithm with k' = 50\n",
      "\n",
      "Mean Query Search Time: 0.000335\n",
      "Mean Recall: 0.083584\n"
     ]
    },
    {
     "data": {
      "application/vnd.jupyter.widget-view+json": {
       "model_id": "cfa55753e6af41f9b7c9c06b449c1e61",
       "version_major": 2,
       "version_minor": 0
      },
      "text/plain": [
       "HBox(children=(IntProgress(value=0, max=10000), HTML(value='')))"
      ]
     },
     "metadata": {},
     "output_type": "display_data"
    },
    {
     "name": "stdout",
     "output_type": "stream",
     "text": [
      "--------------------------\n",
      "Algorithm with k' = 100\n",
      "\n",
      "Mean Query Search Time: 0.000668\n",
      "Mean Recall: 0.147661\n"
     ]
    },
    {
     "data": {
      "application/vnd.jupyter.widget-view+json": {
       "model_id": "8cd5371963db4bc5981d07161b6b1ab6",
       "version_major": 2,
       "version_minor": 0
      },
      "text/plain": [
       "HBox(children=(IntProgress(value=0, max=10000), HTML(value='')))"
      ]
     },
     "metadata": {},
     "output_type": "display_data"
    },
    {
     "name": "stdout",
     "output_type": "stream",
     "text": [
      "--------------------------\n",
      "Algorithm with k' = 150\n",
      "\n",
      "Mean Query Search Time: 0.001051\n",
      "Mean Recall: 0.186716\n"
     ]
    },
    {
     "data": {
      "application/vnd.jupyter.widget-view+json": {
       "model_id": "616f52a708774a098bc300c9661bd56e",
       "version_major": 2,
       "version_minor": 0
      },
      "text/plain": [
       "HBox(children=(IntProgress(value=0, max=10000), HTML(value='')))"
      ]
     },
     "metadata": {},
     "output_type": "display_data"
    },
    {
     "name": "stdout",
     "output_type": "stream",
     "text": [
      "--------------------------\n",
      "Algorithm with k' = 200\n",
      "\n",
      "Mean Query Search Time: 0.001398\n",
      "Mean Recall: 0.213950\n"
     ]
    },
    {
     "data": {
      "application/vnd.jupyter.widget-view+json": {
       "model_id": "3f786beff899446eb7ccf966a64e2062",
       "version_major": 2,
       "version_minor": 0
      },
      "text/plain": [
       "HBox(children=(IntProgress(value=0, max=10000), HTML(value='')))"
      ]
     },
     "metadata": {},
     "output_type": "display_data"
    },
    {
     "name": "stdout",
     "output_type": "stream",
     "text": [
      "--------------------------\n",
      "Algorithm with k' = 250\n",
      "\n",
      "Mean Query Search Time: 0.001495\n",
      "Mean Recall: 0.236735\n"
     ]
    },
    {
     "data": {
      "application/vnd.jupyter.widget-view+json": {
       "model_id": "8aa56d81438f48ccbf00acccfcc05ee0",
       "version_major": 2,
       "version_minor": 0
      },
      "text/plain": [
       "HBox(children=(IntProgress(value=0, max=10000), HTML(value='')))"
      ]
     },
     "metadata": {},
     "output_type": "display_data"
    },
    {
     "name": "stdout",
     "output_type": "stream",
     "text": [
      "--------------------------\n",
      "Algorithm with k' = 300\n",
      "\n",
      "Mean Query Search Time: 0.001797\n",
      "Mean Recall: 0.256108\n"
     ]
    },
    {
     "data": {
      "application/vnd.jupyter.widget-view+json": {
       "model_id": "bd327b699d0e4aacbe61420c6176f0c5",
       "version_major": 2,
       "version_minor": 0
      },
      "text/plain": [
       "HBox(children=(IntProgress(value=0, max=10000), HTML(value='')))"
      ]
     },
     "metadata": {},
     "output_type": "display_data"
    },
    {
     "name": "stdout",
     "output_type": "stream",
     "text": [
      "--------------------------\n",
      "Algorithm with k' = 350\n",
      "\n",
      "Mean Query Search Time: 0.002194\n",
      "Mean Recall: 0.275061\n"
     ]
    },
    {
     "data": {
      "application/vnd.jupyter.widget-view+json": {
       "model_id": "dcf9254ae1144c46a04f4fdb260214c1",
       "version_major": 2,
       "version_minor": 0
      },
      "text/plain": [
       "HBox(children=(IntProgress(value=0, max=10000), HTML(value='')))"
      ]
     },
     "metadata": {},
     "output_type": "display_data"
    },
    {
     "name": "stdout",
     "output_type": "stream",
     "text": [
      "--------------------------\n",
      "Algorithm with k' = 400\n",
      "\n",
      "Mean Query Search Time: 0.002489\n",
      "Mean Recall: 0.293059\n"
     ]
    },
    {
     "data": {
      "application/vnd.jupyter.widget-view+json": {
       "model_id": "dd00bb8ee9cf4ee286ccf4bd3c0f8eae",
       "version_major": 2,
       "version_minor": 0
      },
      "text/plain": [
       "HBox(children=(IntProgress(value=0, max=10000), HTML(value='')))"
      ]
     },
     "metadata": {},
     "output_type": "display_data"
    },
    {
     "name": "stdout",
     "output_type": "stream",
     "text": [
      "--------------------------\n",
      "Algorithm with k' = 450\n",
      "\n",
      "Mean Query Search Time: 0.002792\n",
      "Mean Recall: 0.309001\n"
     ]
    },
    {
     "data": {
      "application/vnd.jupyter.widget-view+json": {
       "model_id": "63a5bbaf253b4a00a038321d77f2d56f",
       "version_major": 2,
       "version_minor": 0
      },
      "text/plain": [
       "HBox(children=(IntProgress(value=0, max=10000), HTML(value='')))"
      ]
     },
     "metadata": {},
     "output_type": "display_data"
    },
    {
     "name": "stdout",
     "output_type": "stream",
     "text": [
      "--------------------------\n",
      "Algorithm with k' = 500\n",
      "\n",
      "Mean Query Search Time: 0.002890\n",
      "Mean Recall: 0.325238\n"
     ]
    },
    {
     "data": {
      "application/vnd.jupyter.widget-view+json": {
       "model_id": "d60a48ea761e428280fbd70a79164e03",
       "version_major": 2,
       "version_minor": 0
      },
      "text/plain": [
       "HBox(children=(IntProgress(value=0, max=10000), HTML(value='')))"
      ]
     },
     "metadata": {},
     "output_type": "display_data"
    },
    {
     "name": "stdout",
     "output_type": "stream",
     "text": [
      "--------------------------\n",
      "Algorithm with k' = 50\n",
      "\n",
      "Mean Query Search Time: 0.000289\n",
      "Mean Recall: 0.083584\n"
     ]
    },
    {
     "data": {
      "application/vnd.jupyter.widget-view+json": {
       "model_id": "0195c0de296b47829f6ace677c151751",
       "version_major": 2,
       "version_minor": 0
      },
      "text/plain": [
       "HBox(children=(IntProgress(value=0, max=10000), HTML(value='')))"
      ]
     },
     "metadata": {},
     "output_type": "display_data"
    },
    {
     "name": "stdout",
     "output_type": "stream",
     "text": [
      "--------------------------\n",
      "Algorithm with k' = 100\n",
      "\n",
      "Mean Query Search Time: 0.000568\n",
      "Mean Recall: 0.147661\n"
     ]
    },
    {
     "data": {
      "application/vnd.jupyter.widget-view+json": {
       "model_id": "71b72fa6e87c44d1ad185adf40bb0d02",
       "version_major": 2,
       "version_minor": 0
      },
      "text/plain": [
       "HBox(children=(IntProgress(value=0, max=10000), HTML(value='')))"
      ]
     },
     "metadata": {},
     "output_type": "display_data"
    },
    {
     "name": "stdout",
     "output_type": "stream",
     "text": [
      "--------------------------\n",
      "Algorithm with k' = 150\n",
      "\n",
      "Mean Query Search Time: 0.000830\n",
      "Mean Recall: 0.186716\n"
     ]
    },
    {
     "data": {
      "application/vnd.jupyter.widget-view+json": {
       "model_id": "5327590fd4cb4808975fd4c21362a69e",
       "version_major": 2,
       "version_minor": 0
      },
      "text/plain": [
       "HBox(children=(IntProgress(value=0, max=10000), HTML(value='')))"
      ]
     },
     "metadata": {},
     "output_type": "display_data"
    },
    {
     "name": "stdout",
     "output_type": "stream",
     "text": [
      "--------------------------\n",
      "Algorithm with k' = 200\n",
      "\n",
      "Mean Query Search Time: 0.001144\n",
      "Mean Recall: 0.213950\n"
     ]
    },
    {
     "data": {
      "application/vnd.jupyter.widget-view+json": {
       "model_id": "b1118bbee4e14e2889afd79a978b5dab",
       "version_major": 2,
       "version_minor": 0
      },
      "text/plain": [
       "HBox(children=(IntProgress(value=0, max=10000), HTML(value='')))"
      ]
     },
     "metadata": {},
     "output_type": "display_data"
    },
    {
     "name": "stdout",
     "output_type": "stream",
     "text": [
      "--------------------------\n",
      "Algorithm with k' = 250\n",
      "\n",
      "Mean Query Search Time: 0.001410\n",
      "Mean Recall: 0.236735\n"
     ]
    },
    {
     "data": {
      "application/vnd.jupyter.widget-view+json": {
       "model_id": "14548ff34e4b45dcb6d3b98715096558",
       "version_major": 2,
       "version_minor": 0
      },
      "text/plain": [
       "HBox(children=(IntProgress(value=0, max=10000), HTML(value='')))"
      ]
     },
     "metadata": {},
     "output_type": "display_data"
    },
    {
     "name": "stdout",
     "output_type": "stream",
     "text": [
      "--------------------------\n",
      "Algorithm with k' = 300\n",
      "\n",
      "Mean Query Search Time: 0.001705\n",
      "Mean Recall: 0.256108\n"
     ]
    },
    {
     "data": {
      "application/vnd.jupyter.widget-view+json": {
       "model_id": "5a81d58842a047e8af36efb44001537f",
       "version_major": 2,
       "version_minor": 0
      },
      "text/plain": [
       "HBox(children=(IntProgress(value=0, max=10000), HTML(value='')))"
      ]
     },
     "metadata": {},
     "output_type": "display_data"
    },
    {
     "name": "stdout",
     "output_type": "stream",
     "text": [
      "--------------------------\n",
      "Algorithm with k' = 350\n",
      "\n",
      "Mean Query Search Time: 0.002033\n",
      "Mean Recall: 0.275061\n"
     ]
    },
    {
     "data": {
      "application/vnd.jupyter.widget-view+json": {
       "model_id": "f6bca02c06cb453c907a56d1df32aabf",
       "version_major": 2,
       "version_minor": 0
      },
      "text/plain": [
       "HBox(children=(IntProgress(value=0, max=10000), HTML(value='')))"
      ]
     },
     "metadata": {},
     "output_type": "display_data"
    },
    {
     "name": "stdout",
     "output_type": "stream",
     "text": [
      "--------------------------\n",
      "Algorithm with k' = 400\n",
      "\n",
      "Mean Query Search Time: 0.002425\n",
      "Mean Recall: 0.293059\n"
     ]
    },
    {
     "data": {
      "application/vnd.jupyter.widget-view+json": {
       "model_id": "a6911495f1ea436a937173c84468c314",
       "version_major": 2,
       "version_minor": 0
      },
      "text/plain": [
       "HBox(children=(IntProgress(value=0, max=10000), HTML(value='')))"
      ]
     },
     "metadata": {},
     "output_type": "display_data"
    },
    {
     "name": "stdout",
     "output_type": "stream",
     "text": [
      "--------------------------\n",
      "Algorithm with k' = 450\n",
      "\n",
      "Mean Query Search Time: 0.003003\n",
      "Mean Recall: 0.309001\n"
     ]
    },
    {
     "data": {
      "application/vnd.jupyter.widget-view+json": {
       "model_id": "89911e0e88ee4544bb3fb7629729ccc8",
       "version_major": 2,
       "version_minor": 0
      },
      "text/plain": [
       "HBox(children=(IntProgress(value=0, max=10000), HTML(value='')))"
      ]
     },
     "metadata": {},
     "output_type": "display_data"
    },
    {
     "name": "stdout",
     "output_type": "stream",
     "text": [
      "--------------------------\n",
      "Algorithm with k' = 500\n",
      "\n",
      "Mean Query Search Time: 0.003030\n",
      "Mean Recall: 0.325238\n"
     ]
    },
    {
     "data": {
      "image/png": "[encoded data removed]",
      "text/plain": [
       "<Figure size 432x288 with 1 Axes>"
      ]
     },
     "metadata": {
      "needs_background": "light"
     },
     "output_type": "display_data"
    }
   ],
   "source": [
    "make_plot(tree_list)"
   ]
  },
  {
   "cell_type": "code",
   "execution_count": 81,
   "metadata": {},
   "outputs": [
    {
     "data": {
      "application/vnd.jupyter.widget-view+json": {
       "model_id": "f1d04f7486db4fa7a59bda51000fcfa0",
       "version_major": 2,
       "version_minor": 0
      },
      "text/plain": [
       "HBox(children=(IntProgress(value=0, max=10000), HTML(value='')))"
      ]
     },
     "metadata": {},
     "output_type": "display_data"
    },
    {
     "name": "stdout",
     "output_type": "stream",
     "text": [
      "--------------------------\n",
      "Algorithm with k' = 500\n",
      "\n",
      "Mean Query Search Time: 0.003123\n",
      "Mean Recall: 0.325238\n"
     ]
    }
   ],
   "source": [
    "algo100_time, algo100_recall = find_nearest_algo(track_vec, test_user_vec, bf_results, annoy10_wrapped, 500)"
   ]
  },
  {
   "cell_type": "code",
   "execution_count": 183,
   "metadata": {},
   "outputs": [],
   "source": [
    "algo_list = ['annoy', 'x']"
   ]
  },
  {
   "cell_type": "code",
   "execution_count": 188,
   "metadata": {},
   "outputs": [
    {
     "data": {
      "application/vnd.jupyter.widget-view+json": {
       "model_id": "fc68a513ff0341fa8484d0465512dde3",
       "version_major": 2,
       "version_minor": 0
      },
      "text/plain": [
       "HBox(children=(IntProgress(value=0, max=10000), HTML(value='')))"
      ]
     },
     "metadata": {},
     "output_type": "display_data"
    },
    {
     "name": "stdout",
     "output_type": "stream",
     "text": [
      "--------------------------\n",
      "Algorithm with k' = 50\n",
      "\n",
      "Mean Query Search Time: 0.000319\n",
      "Mean Recall: 0.083584\n"
     ]
    },
    {
     "data": {
      "application/vnd.jupyter.widget-view+json": {
       "model_id": "bda67b5ab4554358a4a84929fe0a94cf",
       "version_major": 2,
       "version_minor": 0
      },
      "text/plain": [
       "HBox(children=(IntProgress(value=0, max=10000), HTML(value='')))"
      ]
     },
     "metadata": {},
     "output_type": "display_data"
    },
    {
     "name": "stdout",
     "output_type": "stream",
     "text": [
      "--------------------------\n",
      "Algorithm with k' = 100\n",
      "\n",
      "Mean Query Search Time: 0.000632\n",
      "Mean Recall: 0.147661\n",
      "start nmslib\n"
     ]
    },
    {
     "data": {
      "application/vnd.jupyter.widget-view+json": {
       "model_id": "5cdd346e2e1b4bcdb763c53cd910118f",
       "version_major": 2,
       "version_minor": 0
      },
      "text/plain": [
       "HBox(children=(IntProgress(value=0, max=10000), HTML(value='')))"
      ]
     },
     "metadata": {},
     "output_type": "display_data"
    },
    {
     "name": "stdout",
     "output_type": "stream",
     "text": [
      "--------------------------\n",
      "Algorithm with k' = 50\n",
      "\n",
      "Mean Query Search Time: 0.000029\n",
      "Mean Recall: 0.005164\n"
     ]
    },
    {
     "data": {
      "application/vnd.jupyter.widget-view+json": {
       "model_id": "cc49f0d0866b4df58e8f9a8bf7ce4241",
       "version_major": 2,
       "version_minor": 0
      },
      "text/plain": [
       "HBox(children=(IntProgress(value=0, max=10000), HTML(value='')))"
      ]
     },
     "metadata": {},
     "output_type": "display_data"
    },
    {
     "name": "stdout",
     "output_type": "stream",
     "text": [
      "--------------------------\n",
      "Algorithm with k' = 100\n",
      "\n",
      "Mean Query Search Time: 0.000041\n",
      "Mean Recall: 0.011268\n"
     ]
    },
    {
     "data": {
      "image/png": "[encoded data removed]",
      "text/plain": [
       "<Figure size 432x288 with 1 Axes>"
      ]
     },
     "metadata": {
      "needs_background": "light"
     },
     "output_type": "display_data"
    }
   ],
   "source": [
    "for algo in algo_list:\n",
    "    if algo == 'annoy':\n",
    "        f = len(track_vec[0])\n",
    "        t = AnnoyIndex(f, metric='angular')\n",
    "        for i in range(len(track_vec)):\n",
    "            t.add_item(i, track_vec[i])\n",
    "        t.build(10)\n",
    "        num_query_list = []\n",
    "        recall_list = []\n",
    "        for k in range(50,101, 50):\n",
    "            algo100_time, algo100_recall = find_nearest_algo(track_vec, test_user_vec, bf_results, annoy10_wrapped, k)\n",
    "            num_query_list.append(1/algo100_time)\n",
    "            recall_list.append(algo100_recall)\n",
    "        plt.plot(recall_list, num_query_list, label = 'Annoy (num_tree = {})'.format(10))\n",
    "        plt.ylabel('Queries per second (1/s)')\n",
    "        plt.xlabel('Recall')\n",
    "        plt.title('Recall-Queries per second (1/s) tradeoff - up and to the right is better')\n",
    "        plt.legend()\n",
    "        plt.grid()\n",
    "    else:\n",
    "        index = nmslib.init(method='hnsw', space='cosinesimil')\n",
    "        index.addDataPointBatch(track_vec)\n",
    "        index.createIndex({'post': 2}, print_progress=True)\n",
    "        num_query_list = []\n",
    "        recall_list = []\n",
    "        for k in range(50,101, 50):\n",
    "            algo100_time, algo100_recall = find_nearest_algo_nmslib(track_vec, test_user_vec, bf_results,k)\n",
    "            num_query_list.append(1/algo100_time)\n",
    "            recall_list.append(algo100_recall)\n",
    "        plt.plot(recall_list, num_query_list, label = 'Nnmslib')\n",
    "        plt.ylabel('Queries per second (1/s)')\n",
    "        plt.xlabel('Recall')\n",
    "        plt.title('Recall-Queries per second (1/s) tradeoff - up and to the right is better')\n",
    "        plt.legend()\n",
    "        plt.grid()\n",
    "\n",
    "    \n"
   ]
  },
  {
   "cell_type": "markdown",
   "metadata": {},
   "source": [
    "## nmslib"
   ]
  },
  {
   "cell_type": "code",
   "execution_count": 85,
   "metadata": {},
   "outputs": [],
   "source": [
    "import nmslib"
   ]
  },
  {
   "cell_type": "code",
   "execution_count": 86,
   "metadata": {},
   "outputs": [],
   "source": [
    "index = nmslib.init(method='hnsw', space='cosinesimil')\n",
    "index.addDataPointBatch(track_vec)\n",
    "index.createIndex({'post': 2}, print_progress=True)\n",
    "# pred_label = index.knnQueryBatch(test_user_vec, k=500, num_threads=4)"
   ]
  },
  {
   "cell_type": "code",
   "execution_count": 111,
   "metadata": {},
   "outputs": [],
   "source": [
    "def find_nearest_algo_nmslib(data, queries, true_label, k):\n",
    "    if len(data.shape) == 1:\n",
    "        data = np.array([x for x in data])\n",
    "    n_items = data.shape[0]\n",
    "    n_feat = data.shape[1]\n",
    "    n_queries = len(queries)\n",
    "    def single_query(query):\n",
    "        start = time.time()\n",
    "        res, _ = index.knnQuery(query, k=k)\n",
    "        interval = time.time() - start\n",
    "        return interval, res\n",
    "    def get_recall(predict, truth):\n",
    "        return len([x for x in predict if x in truth]) / len(truth)\n",
    "    times = []\n",
    "    recalls = []\n",
    "    for i in tqdm(range(n_queries)):\n",
    "        interval, res = single_query(queries[i])\n",
    "        recall = get_recall(res, true_label[i])\n",
    "        times.append(interval)\n",
    "        recalls.append(recall)\n",
    "    mean_time = sum(times) / len(times)\n",
    "    mean_recall = sum(recalls) / len(recalls)\n",
    "    print('-' * 26)\n",
    "    print('Algorithm with k\\' = %d\\n' % k)\n",
    "    print('Mean Query Search Time: %.6f' % mean_time)\n",
    "    print('Mean Recall: %.6f' % mean_recall)\n",
    "    \n",
    "    return mean_time, mean_recall "
   ]
  },
  {
   "cell_type": "code",
   "execution_count": 114,
   "metadata": {},
   "outputs": [
    {
     "data": {
      "application/vnd.jupyter.widget-view+json": {
       "model_id": "00ccff2ee21148fa9c48c50ad3065d95",
       "version_major": 2,
       "version_minor": 0
      },
      "text/plain": [
       "HBox(children=(IntProgress(value=0, max=10000), HTML(value='')))"
      ]
     },
     "metadata": {},
     "output_type": "display_data"
    },
    {
     "name": "stdout",
     "output_type": "stream",
     "text": [
      "--------------------------\n",
      "Algorithm with k' = 500\n",
      "\n",
      "Mean Query Search Time: 0.000060\n",
      "Mean Recall: 0.019397\n"
     ]
    }
   ],
   "source": [
    "algo100_time, algo100_recall = find_nearest_algo_nmslib(track_vec, test_user_vec, bf_results, 500)"
   ]
  },
  {
   "cell_type": "code",
   "execution_count": null,
   "metadata": {},
   "outputs": [],
   "source": []
  }
 ],
 "metadata": {
  "kernelspec": {
   "display_name": "Python [default]",
   "language": "python",
   "name": "python3"
  },
  "language_info": {
   "codemirror_mode": {
    "name": "ipython",
    "version": 3
   },
   "file_extension": ".py",
   "mimetype": "text/x-python",
   "name": "python",
   "nbconvert_exporter": "python",
   "pygments_lexer": "ipython3",
   "version": "3.6.8"
  },
  "toc": {
   "base_numbering": 1,
   "nav_menu": {},
   "number_sections": false,
   "sideBar": true,
   "skip_h1_title": true,
   "title_cell": "Table of Contents",
   "title_sidebar": "Contents",
   "toc_cell": false,
   "toc_position": {},
   "toc_section_display": true,
   "toc_window_display": false
  }
 },
 "nbformat": 4,
 "nbformat_minor": 2
}
